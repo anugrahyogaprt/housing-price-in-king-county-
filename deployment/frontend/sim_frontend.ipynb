{
 "cells": [
  {
   "cell_type": "code",
   "execution_count": 15,
   "metadata": {},
   "outputs": [],
   "source": [
    "import requests\n",
    "import pandas as pd"
   ]
  },
  {
   "cell_type": "code",
   "execution_count": 7,
   "metadata": {},
   "outputs": [],
   "source": [
    "data_inf = {\n",
    "    'bedrooms' : 3,\n",
    "    'bathrooms' : 3,\n",
    "    'sqft_living' : 2500,\n",
    "    'sqft_lot' : 7200,\n",
    "    'floors' :  2,\n",
    "    'waterfront' : 1,\n",
    "    'view' : 1,\n",
    "    'condition' : 4,\n",
    "    'grade' : 8,\n",
    "    'sqft_above' : 2170,\n",
    "    'sqft_basement' : 400,\n",
    "    'yr_built' : 1999,\n",
    "    'yr_renovated' : 0,\n",
    "    'lat' : 47.721,\n",
    "    'long' : -122.319,\n",
    "    'sqft_living15' : 1690,\n",
    "    'sqft_lot15' : 7600\n",
    "}"
   ]
  },
  {
   "cell_type": "code",
   "execution_count": 38,
   "metadata": {},
   "outputs": [
    {
     "data": {
      "text/plain": [
       "{'bathrooms': 2.5,\n",
       " 'bedrooms': 4.0,\n",
       " 'condition': 3.0,\n",
       " 'floors': 2.0,\n",
       " 'grade': 8.0,\n",
       " 'lat': 47.4,\n",
       " 'long': -122.0,\n",
       " 'sqft_above': 2710.0,\n",
       " 'sqft_basement': 0.0,\n",
       " 'sqft_living': 2710.0,\n",
       " 'sqft_living15': 2520.0,\n",
       " 'sqft_lot': 8127.0,\n",
       " 'sqft_lot15': 8436.0,\n",
       " 'view': 0.0,\n",
       " 'waterfront': 0.0,\n",
       " 'yr_built': 1994.0,\n",
       " 'yr_renovated': 0.0}"
      ]
     },
     "execution_count": 38,
     "metadata": {},
     "output_type": "execute_result"
    }
   ],
   "source": [
    "URL = 'http://127.0.0.1:5000/'\n",
    "r = requests.get(URL)\n",
    "r.json()"
   ]
  },
  {
   "cell_type": "code",
   "execution_count": 41,
   "metadata": {},
   "outputs": [
    {
     "data": {
      "text/plain": [
       "{'code': 200, 'prediction': 1066949.9866666666, 'status': 'OK'}"
      ]
     },
     "execution_count": 41,
     "metadata": {},
     "output_type": "execute_result"
    }
   ],
   "source": [
    "URL = 'http://127.0.0.1:5000/housing'\n",
    "r = requests.post(URL, json=data_inf)\n",
    "r.json()"
   ]
  },
  {
   "cell_type": "code",
   "execution_count": 56,
   "metadata": {},
   "outputs": [
    {
     "data": {
      "text/plain": [
       "1066949.9866666666"
      ]
     },
     "execution_count": 56,
     "metadata": {},
     "output_type": "execute_result"
    }
   ],
   "source": [
    "r.json()['prediction']"
   ]
  },
  {
   "cell_type": "code",
   "execution_count": 49,
   "metadata": {},
   "outputs": [
    {
     "name": "stdout",
     "output_type": "stream",
     "text": [
      "<class 'int'>\n",
      "<class 'int'>\n",
      "<class 'int'>\n",
      "<class 'int'>\n",
      "<class 'int'>\n",
      "<class 'int'>\n",
      "<class 'int'>\n",
      "<class 'int'>\n",
      "<class 'int'>\n",
      "<class 'int'>\n",
      "<class 'int'>\n",
      "<class 'int'>\n",
      "<class 'int'>\n",
      "<class 'float'>\n",
      "<class 'float'>\n",
      "<class 'int'>\n",
      "<class 'int'>\n"
     ]
    }
   ],
   "source": [
    "for key in data_inf.keys():\n",
    "    print(type(data_inf[key]))"
   ]
  },
  {
   "cell_type": "code",
   "execution_count": 55,
   "metadata": {},
   "outputs": [
    {
     "data": {
      "text/plain": [
       "int"
      ]
     },
     "execution_count": 55,
     "metadata": {},
     "output_type": "execute_result"
    }
   ],
   "source": [
    "import numpy as np\n",
    "type(np.arange(1,31)[0].item())"
   ]
  }
 ],
 "metadata": {
  "interpreter": {
   "hash": "df0893f56f349688326838aaeea0de204df53a132722cbd565e54b24a8fec5f6"
  },
  "kernelspec": {
   "display_name": "Python 3.8.10 64-bit",
   "language": "python",
   "name": "python3"
  },
  "language_info": {
   "codemirror_mode": {
    "name": "ipython",
    "version": 3
   },
   "file_extension": ".py",
   "mimetype": "text/x-python",
   "name": "python",
   "nbconvert_exporter": "python",
   "pygments_lexer": "ipython3",
   "version": "3.8.10"
  },
  "orig_nbformat": 4
 },
 "nbformat": 4,
 "nbformat_minor": 2
}
